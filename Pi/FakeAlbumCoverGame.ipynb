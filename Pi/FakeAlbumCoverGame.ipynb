{
 "cells": [
  {
   "cell_type": "markdown",
   "metadata": {},
   "source": [
    " <div class=\"alert alert-block alert-info\" style=\"margin-top: 20px\">\n",
    " <a href=\"http://cocl.us/NotebooksPython101\"><img src = \"https://ibm.box.com/shared/static/yfe6h4az47ktg2mm9h05wby2n7e8kei3.png\" width = 750, align = \"center\"></a>"
   ]
  },
  {
   "cell_type": "markdown",
   "metadata": {},
   "source": [
    "<a href=\"https://www.bigdatauniversity.com\"><img src = \"https://ibm.box.com/shared/static/ugcqz6ohbvff804xp84y4kqnvvk3bq1g.png\" width = 300, align = \"center\"></a>\n",
    "\n",
    "<h1 align=center><font size = 5> Make Fake Album Cover Game</font></h1>"
   ]
  },
  {
   "cell_type": "markdown",
   "metadata": {},
   "source": [
    "## Table of Contents\n",
    "Our goal is to create randomly generated album covers with:\n",
    "\n",
    "<div class=\"alert alert-block alert-info\" style=\"margin-top: 20px\">\n",
    "<ol>\n",
    "\n",
    "<li><a href=\"#ref1\">Learn how to use the function display_cover</a></li>\n",
    "<li><a href=\"#ref2\">Loading a random page from Wikipedia</a></li>\n",
    "<li><a href=\"#ref3\">Extracting the Title of the Article</a></li>\n",
    "<li><a href=\"#ref4\"> Displaying the Album Cover</a></li>\n",
    "\n",
    "\n",
    "</ol>\n",
    "<br>\n",
    "<p></p>\n",
    "Estimated Time Needed: <strong>60 min</strong>\n",
    "</div>\n",
    "\n",
    "<hr>"
   ]
  },
  {
   "cell_type": "markdown",
   "metadata": {},
   "source": [
    "\n",
    "Inspiration: [Fake Album Covers](https://fakealbumcovers.com/)"
   ]
  },
  {
   "cell_type": "markdown",
   "metadata": {},
   "source": [
    "#### Import libraries \n"
   ]
  },
  {
   "cell_type": "code",
   "execution_count": null,
   "metadata": {
    "collapsed": false
   },
   "outputs": [],
   "source": [
    "from IPython.display import Image as IPythonImage\n",
    "from PIL import Image\n",
    "from PIL import ImageFont\n",
    "from PIL import ImageDraw"
   ]
  },
  {
   "cell_type": "markdown",
   "metadata": {},
   "source": [
    "#### Helper function to superimpose text on image \n"
   ]
  },
  {
   "cell_type": "code",
   "execution_count": null,
   "metadata": {
    "collapsed": true
   },
   "outputs": [],
   "source": [
    "def display_cover(top,bottom ):\n",
    "    \"\"\"This fucntoin\n",
    "    \"\"\"\n",
    "    import requests\n",
    "    \n",
    "    name='album_art_raw.png'\n",
    "    # Now let's make get an album cover.\n",
    "    # https://picsum.photos/ is a free service that offers random images.\n",
    "    # Let's get a random image:\n",
    "    album_art_raw = requests.get('https://picsum.photos/500/500/?random')\n",
    "    # and save it as 'album_art_raw.png'\n",
    "    with open(name,'wb') as album_art_raw_file:\n",
    "       album_art_raw_file.write(album_art_raw.content)\n",
    "    # Now that we have our raw image, let's open it \n",
    "    # and write our band and album name on it\n",
    "    img = Image.open(\"album_art_raw.png\")\n",
    "    draw = ImageDraw.Draw(img)\n",
    "\n",
    "    # We'll choose a font for our band and album title, \n",
    "    # run \"% ls /usr/share/fonts/truetype/dejavu\" in a cell to see what else is available,\n",
    "    # or download your own .ttf fonts!\n",
    "    band_name_font = ImageFont.truetype(\"/usr/share/fonts/truetype/dejavu/DejaVuSans-Bold.ttf\", 25) #25pt font\n",
    "    album_name_font = ImageFont.truetype(\"/usr/share/fonts/truetype/dejavu/DejaVuSans-Bold.ttf\", 20) # 20pt font\n",
    "\n",
    "    # the x,y coordinates for where our album name and band name text will start\n",
    "    # counted from the top left of the picture (in pixels)\n",
    "    band_x, band_y = 50, 50\n",
    "    album_x, album_y = 50, 400\n",
    "\n",
    "    # Our text should be visible on any image. A good way\n",
    "    # of accomplishing that is to use white text with a \n",
    "    # black border. We'll use the technique shown here to draw the border:\n",
    "    # https://mail.python.org/pipermail/image-sig/2009-May/005681.html\n",
    "    outline_color =\"black\"\n",
    "\n",
    "    draw.text((band_x-1, band_y-1), top, font=band_name_font, fill=outline_color)\n",
    "    draw.text((band_x+1, band_y-1), top, font=band_name_font, fill=outline_color)\n",
    "    draw.text((band_x-1, band_y+1), top, font=band_name_font, fill=outline_color)\n",
    "    draw.text((band_x+1, band_y+1), top, font=band_name_font, fill=outline_color)\n",
    "\n",
    "    draw.text((album_x-1, album_y-1), bottom , font=album_name_font, fill=outline_color)\n",
    "    draw.text((album_x+1, album_y-1), bottom , font=album_name_font, fill=outline_color)\n",
    "    draw.text((album_x-1, album_y+1), bottom , font=album_name_font, fill=outline_color)\n",
    "    draw.text((album_x+1, album_y+1), bottom , font=album_name_font, fill=outline_color)\n",
    "\n",
    "    draw.text((band_x,band_y),top,(255,255,255),font=band_name_font)\n",
    "    draw.text((album_x, album_y),bottom,(255,255,255),font=album_name_font)\n",
    "\n",
    "    return img"
   ]
  },
  {
   "cell_type": "markdown",
   "metadata": {},
   "source": [
    "## 1) Learn how to use the function display_cover <a id='ref1'></a>"
   ]
  },
  {
   "cell_type": "markdown",
   "metadata": {},
   "source": [
    " The function **display_cover**  selects a random image from https://picsum.photos/  and will help us superimpose two strings over the image. The parameter **top** is the string we would like to superimpose on the top of an image.  The parameter bottom is the string we would like to display on the bottom of the image.  The function does not return the image but returns an object of type  Image from the Pillow library; the object represents a PIL image. "
   ]
  },
  {
   "cell_type": "code",
   "execution_count": null,
   "metadata": {
    "collapsed": false
   },
   "outputs": [],
   "source": [
    "img=display_cover(top='top',bottom='bottom')"
   ]
  },
  {
   "cell_type": "markdown",
   "metadata": {},
   "source": [
    "To save the image, we use the method **save** . The argument is the file  name of the image  we would like to save in this case 'sample-out.png'"
   ]
  },
  {
   "cell_type": "code",
   "execution_count": null,
   "metadata": {
    "collapsed": false
   },
   "outputs": [],
   "source": [
    "img.save('sample-out.png')"
   ]
  },
  {
   "cell_type": "markdown",
   "metadata": {},
   "source": [
    "Finely we use **IPythonImage** to read the image file and display the results.\n"
   ]
  },
  {
   "cell_type": "code",
   "execution_count": null,
   "metadata": {
    "collapsed": false
   },
   "outputs": [],
   "source": [
    "IPythonImage(filename='sample-out.png')"
   ]
  },
  {
   "cell_type": "markdown",
   "metadata": {},
   "source": [
    "**Question 1)** Use the **display_cover** function to display the image with the name Python on the top and Data Science on the bottom. Save the image as **'sample-out.png'**."
   ]
  },
  {
   "cell_type": "code",
   "execution_count": null,
   "metadata": {
    "collapsed": false
   },
   "outputs": [],
   "source": [
    "img = display_cover(top='Python', bottom= 'Data Science')"
   ]
  },
  {
   "cell_type": "code",
   "execution_count": null,
   "metadata": {
    "collapsed": true
   },
   "outputs": [],
   "source": [
    "img.save('sample-out.png')"
   ]
  },
  {
   "cell_type": "markdown",
   "metadata": {},
   "source": [
    "## Part 2: Loading a random page from Wikipedia  <a id='ref2'></a>"
   ]
  },
  {
   "cell_type": "markdown",
   "metadata": {
    "collapsed": true
   },
   "source": [
    " In this project, we will use the request library, we used it in the function **display_cover**, but you should import the library in the next cell."
   ]
  },
  {
   "cell_type": "code",
   "execution_count": null,
   "metadata": {
    "collapsed": true
   },
   "outputs": [],
   "source": [
    "import requests"
   ]
  },
  {
   "cell_type": "markdown",
   "metadata": {},
   "source": [
    " The following is the URL to the  page "
   ]
  },
  {
   "cell_type": "code",
   "execution_count": null,
   "metadata": {
    "collapsed": true
   },
   "outputs": [],
   "source": [
    "wikipedia_link='https://en.wikipedia.org/wiki/Special:Random'"
   ]
  },
  {
   "cell_type": "markdown",
   "metadata": {},
   "source": [
    "**Question 2)** Get Wikipedia page is converted to a string"
   ]
  },
  {
   "cell_type": "markdown",
   "metadata": {},
   "source": [
    " Use the function **get** from the **requests** library to download the Wikipedia page using the **wikipedia_link** as an argument. Assign the object to the variable **raw_random_wikipedia_page**."
   ]
  },
  {
   "cell_type": "code",
   "execution_count": 30,
   "metadata": {
    "collapsed": false
   },
   "outputs": [],
   "source": [
    "#hint: requests.get()\n",
    "raw_random_wikipedia_page = requests.get('wikipedia_link')"
   ]
  },
  {
   "cell_type": "markdown",
   "metadata": {},
   "source": [
    " Use the data attribute **text** to extract the XML as a text file a string and assign the result variable **page**:"
   ]
  },
  {
   "cell_type": "code",
   "execution_count": null,
   "metadata": {
    "collapsed": false,
    "scrolled": true
   },
   "outputs": [],
   "source": [
    "page = raw_random_wikipedia_page.text\n",
    "print(page)"
   ]
  },
  {
   "cell_type": "markdown",
   "metadata": {},
   "source": [
    "# Part 3: Extracting the Title of the Article <a id='ref3'></a>  "
   ]
  },
  {
   "cell_type": "markdown",
   "metadata": {},
   "source": [
    " **Question 3 (part 1)**  Use the title of the Wikipedia article as the title of the band. The title of the article is surrounded by the XML node title as follows:  **&lt;title&gt;title - Wikipedia&lt;/title>**\n",
    ". For example, if the title of the article was Python we would see the following:  **&lt;title&gt;Python - Wikipedia&lt;/title>**. Consider the example where the title of the article is Teenage Mutant Ninja Turtles the result would be:  **&lt;title&gt;Teenage Mutant Ninja Turtles - Wikipedia&lt;/title>**.  The first step is to find the XML node  **&lt;title&gt;** and **&lt;/title&gt;**indicating the start and end of the title. The string function  **find** maybe helpful, you can also use libraries like **xlxml**."
   ]
  },
  {
   "cell_type": "code",
   "execution_count": null,
   "metadata": {
    "collapsed": false
   },
   "outputs": [],
   "source": [
    "title_tag = page.find('title')\n",
    "title = title_tag.remove('Wikipedia')\n",
    "band_title = title[7:-10]"
   ]
  },
  {
   "cell_type": "markdown",
   "metadata": {},
   "source": [
    " **Question 3 (part 2)** Next get rid of the term ** - Wikipedia** from the title and assign the result to the **band_title**  For example you can use the function or method **strip** or **replace**. \n"
   ]
  },
  {
   "cell_type": "markdown",
   "metadata": {
    "collapsed": true
   },
   "source": []
  },
  {
   "cell_type": "markdown",
   "metadata": {},
   "source": [
    " **Question 4)** Repeat the second and third step, to extract the title of a second Wikipedia article but use the result to **album_title**"
   ]
  },
  {
   "cell_type": "code",
   "execution_count": null,
   "metadata": {
    "collapsed": true
   },
   "outputs": [],
   "source": [
    "batman_page = requests.get('https://en.wikipedia.org/wiki/Batman')\n",
    "b_page = batman_page.text\n",
    "b_title_tag = page.find('title')\n",
    "b_title = title_tag.remove('Wikipedia')\n",
    "album_title = title[7:-10]"
   ]
  },
  {
   "cell_type": "markdown",
   "metadata": {},
   "source": [
    " If you did everything correct the following cell should display the album and band name:\n"
   ]
  },
  {
   "cell_type": "code",
   "execution_count": null,
   "metadata": {
    "collapsed": false
   },
   "outputs": [],
   "source": [
    "print(\"Your band: \", band_title)\n",
    "print(\"Your album: \", album_title)"
   ]
  },
  {
   "cell_type": "markdown",
   "metadata": {
    "collapsed": true
   },
   "source": [
    "## Part 4: Displaying the Album Cover  <a id='ref4'></a>"
   ]
  },
  {
   "cell_type": "markdown",
   "metadata": {},
   "source": [
    " Use the function **display_cover** to superimpose the band and album title over a random image, assign the result to the variable **album_cover **."
   ]
  },
  {
   "cell_type": "markdown",
   "metadata": {
    "collapsed": false
   },
   "source": [
    "**Question 5)** use the function display_cover  to display the album cover with two random article titles representing the name of the band and the title of the album."
   ]
  },
  {
   "cell_type": "code",
   "execution_count": null,
   "metadata": {
    "collapsed": true
   },
   "outputs": [],
   "source": [
    "img = display_cover(top = band_title, bottom = album_title)"
   ]
  },
  {
   "cell_type": "markdown",
   "metadata": {},
   "source": [
    " Use the method save to save the image as **sample-out.png**:"
   ]
  },
  {
   "cell_type": "code",
   "execution_count": null,
   "metadata": {
    "collapsed": true
   },
   "outputs": [],
   "source": [
    "img.save('sample-out.png')"
   ]
  },
  {
   "cell_type": "markdown",
   "metadata": {},
   "source": [
    "Use the function **IPythonImage** to display the image \n"
   ]
  },
  {
   "cell_type": "code",
   "execution_count": null,
   "metadata": {
    "collapsed": false
   },
   "outputs": [],
   "source": [
    "IPythonImage(img)"
   ]
  },
  {
   "cell_type": "markdown",
   "metadata": {},
   "source": [
    "### About the Authors:  \n",
    " [James Reeve]( https://www.linkedin.com/in/reevejamesd/) James Reeves is a Software Engineering intern at IBM.\n",
    "\n"
   ]
  },
  {
   "cell_type": "markdown",
   "metadata": {},
   "source": [
    " [Joseph Santarcangelo]( https://www.linkedin.com/in/joseph-s-50398b136/) has a PhD in Electrical Engineering, his research focused on using machine learning, signal processing, and computer vision to determine how videos impact human cognition. Joseph has been working for IBM since he completed his PhD.\n",
    " "
   ]
  },
  {
   "cell_type": "markdown",
   "metadata": {},
   "source": [
    " <hr>\n",
    "Copyright &copy; 2018 [cognitiveclass.ai](cognitiveclass.ai?utm_source=bducopyrightlink&utm_medium=dswb&utm_campaign=bdu). This notebook and its source code are released under the terms of the [MIT License](https://bigdatauniversity.com/mit-license/)."
   ]
  }
 ],
 "metadata": {
  "kernelspec": {
   "display_name": "Python 3",
   "language": "python",
   "name": "python3"
  },
  "language_info": {
   "codemirror_mode": {
    "name": "ipython",
    "version": 3
   },
   "file_extension": ".py",
   "mimetype": "text/x-python",
   "name": "python",
   "nbconvert_exporter": "python",
   "pygments_lexer": "ipython3",
   "version": "3.5.2"
  },
  "widgets": {
   "state": {},
   "version": "1.1.2"
  }
 },
 "nbformat": 4,
 "nbformat_minor": 0
}
